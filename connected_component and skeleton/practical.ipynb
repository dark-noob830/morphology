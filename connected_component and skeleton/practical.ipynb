{
 "cells": [
  {
   "cell_type": "markdown",
   "id": "29965dfd",
   "metadata": {},
   "source": [
    "## Labeling Connected Components"
   ]
  },
  {
   "cell_type": "markdown",
   "id": "bc87cd5b",
   "metadata": {},
   "source": [
    "Import libraries"
   ]
  },
  {
   "cell_type": "code",
   "id": "df27dea5",
   "metadata": {
    "ExecuteTime": {
     "end_time": "2025-05-19T17:18:08.384069Z",
     "start_time": "2025-05-19T17:18:02.963105Z"
    }
   },
   "source": [
    "import cv2\n",
    "import numpy as np\n",
    "import matplotlib.pyplot as plt\n",
    "from PIL import Image\n",
    "from scipy.signal import convolve2d"
   ],
   "outputs": [],
   "execution_count": 1
  },
  {
   "cell_type": "markdown",
   "id": "8011b08c",
   "metadata": {},
   "source": [
    "Load and display image"
   ]
  },
  {
   "cell_type": "code",
   "id": "cffb922a",
   "metadata": {
    "ExecuteTime": {
     "end_time": "2025-05-19T17:18:39.009516Z",
     "start_time": "2025-05-19T17:18:39.006079Z"
    }
   },
   "source": [
    "def load_image(image_path, threshold=127):\n",
    "    img = cv2.imread(image_path, cv2.IMREAD_GRAYSCALE)\n",
    "    _, binary = cv2.threshold(img, threshold, 255, cv2.THRESH_BINARY)\n",
    "    return binary\n",
    "\n",
    "\n",
    "def show_image(img, title=\"Image\"):\n",
    "    plt.imshow(img, cmap='gray')\n",
    "    plt.title(title)\n",
    "    plt.axis('off')\n",
    "    plt.show()\n"
   ],
   "outputs": [],
   "execution_count": 2
  },
  {
   "cell_type": "markdown",
   "id": "0144cda3",
   "metadata": {},
   "source": [
    "Implement dilation operation in this section\n"
   ]
  },
  {
   "cell_type": "code",
   "id": "c8e43e35",
   "metadata": {
    "ExecuteTime": {
     "end_time": "2025-05-19T17:43:01.901979Z",
     "start_time": "2025-05-19T17:43:01.897674Z"
    }
   },
   "source": [
    "def dilation(binary_image, struct_elem):\n",
    "    dilated = cv2.dilate(binary_image, struct_elem)\n",
    "    return dilated\n",
    "\n"
   ],
   "outputs": [],
   "execution_count": 4
  },
  {
   "cell_type": "markdown",
   "id": "906539df",
   "metadata": {},
   "source": "![connected _components_Extraction](./connected%20_components_Extraction.jpeg)"
  },
  {
   "cell_type": "markdown",
   "id": "30a13d8f",
   "metadata": {},
   "source": [
    "Based on the morphological relation shown in the image above, complete the function `morphological_connected_component` to identify and label connected components."
   ]
  },
  {
   "cell_type": "markdown",
   "id": "d93a4a9c",
   "metadata": {},
   "source": [
    "`labeled` is an array with the same size as the input image, where each pixel holds the label of the connected component it belongs to.\n"
   ]
  },
  {
   "cell_type": "code",
   "id": "c430755a",
   "metadata": {
    "ExecuteTime": {
     "end_time": "2025-05-19T20:46:48.221780Z",
     "start_time": "2025-05-19T20:46:48.217164Z"
    }
   },
   "source": [
    "def morphological_connected_component(binary_image, structure=None):\n",
    "    if structure is None:\n",
    "        structure = np.ones((3, 3), dtype=np.uint8)\n",
    "    binary_image = (binary_image > 0).astype(np.uint8) * 255\n",
    "\n",
    "    visited = np.zeros_like(binary_image, dtype=np.uint8)\n",
    "    labeled = np.zeros_like(binary_image, dtype=np.uint16)\n",
    "    label_count = 1\n",
    "\n",
    "    h, w = binary_image.shape\n",
    "\n",
    "    for y in range(h):\n",
    "        for x in range(w):\n",
    "            if binary_image[y, x] == 255 and visited[y, x] == 0:\n",
    "                X = np.zeros_like(binary_image, dtype=np.uint8)\n",
    "                X[y, x] = 255\n",
    "                while True:\n",
    "                    X_next = cv2.bitwise_and(dilation(X, structure), binary_image)\n",
    "                    if np.array_equal(X_next, X):\n",
    "                        break\n",
    "                    X = X_next\n",
    "\n",
    "                visited = cv2.bitwise_or(visited, X)\n",
    "                labeled[X == 255] = label_count\n",
    "                label_count += 1\n",
    "\n",
    "    return labeled\n",
    "\n",
    "##################################################\n"
   ],
   "outputs": [],
   "execution_count": 56
  },
  {
   "cell_type": "code",
   "id": "3a909d4b",
   "metadata": {
    "ExecuteTime": {
     "end_time": "2025-05-19T20:46:49.115483Z",
     "start_time": "2025-05-19T20:46:49.112413Z"
    }
   },
   "source": [
    "def display_labeled_components(labeled_img):\n",
    "    max_label = labeled_img.max()\n",
    "    labeled_color = np.zeros((*labeled_img.shape, 3), dtype=np.uint8)\n",
    "\n",
    "    for label in range(1, max_label + 1):\n",
    "        mask = labeled_img == label\n",
    "        color = np.random.randint(0, 255, size=3)\n",
    "        labeled_color[mask] = color\n",
    "\n",
    "    plt.imshow(labeled_color)\n",
    "    plt.title(\"Labeled Components\")\n",
    "    plt.axis('off')\n",
    "    plt.show()\n"
   ],
   "outputs": [],
   "execution_count": 57
  },
  {
   "cell_type": "markdown",
   "id": "f9d7be52",
   "metadata": {},
   "source": [
    "### In the image \"Connected_Components\", there are 10 connected components. Complete the code below to label them using morphological operations.\n"
   ]
  },
  {
   "cell_type": "code",
   "id": "76e4a142",
   "metadata": {
    "ExecuteTime": {
     "end_time": "2025-05-19T20:46:50.473625Z",
     "start_time": "2025-05-19T20:46:49.587153Z"
    }
   },
   "source": [
    "path = \"Connected_Components.png\"\n",
    "\n",
    "binary_img = load_image(path)\n",
    "show_image(binary_img, \"Binary Image\")\n",
    "\n",
    "labeled = morphological_connected_component(binary_img)\n",
    "display_labeled_components(labeled)\n"
   ],
   "outputs": [
    {
     "data": {
      "text/plain": [
       "<Figure size 640x480 with 1 Axes>"
      ],
      "image/png": "[encoded data removed]"
     },
     "metadata": {},
     "output_type": "display_data"
    },
    {
     "data": {
      "text/plain": [
       "<Figure size 640x480 with 1 Axes>"
      ],
      "image/png": "[encoded data removed]"
     },
     "metadata": {},
     "output_type": "display_data"
    }
   ],
   "execution_count": 58
  },
  {
   "cell_type": "markdown",
   "id": "5059b201",
   "metadata": {},
   "source": [
    "## Skeleton Extraction"
   ]
  },
  {
   "cell_type": "markdown",
   "id": "af96f5b6",
   "metadata": {},
   "source": [
    "Import libraries"
   ]
  },
  {
   "cell_type": "code",
   "id": "faa5e493",
   "metadata": {
    "ExecuteTime": {
     "end_time": "2025-05-19T21:09:17.561061Z",
     "start_time": "2025-05-19T21:09:17.555089Z"
    }
   },
   "source": [
    "import cv2\n",
    "import numpy as np\n",
    "import matplotlib.pyplot as plt\n",
    "from scipy.signal import convolve2d\n"
   ],
   "outputs": [],
   "execution_count": 59
  },
  {
   "cell_type": "markdown",
   "id": "8f417e0d",
   "metadata": {},
   "source": [
    "Load and display image"
   ]
  },
  {
   "cell_type": "code",
   "id": "c5ce6502",
   "metadata": {
    "ExecuteTime": {
     "end_time": "2025-05-19T21:09:21.015444Z",
     "start_time": "2025-05-19T21:09:21.009277Z"
    }
   },
   "source": [
    "def load_and_binarize_image(image_path, threshold=127):\n",
    "    img = cv2.imread(image_path, cv2.IMREAD_GRAYSCALE)\n",
    "\n",
    "    _, binary = cv2.threshold(img, threshold, 255, cv2.THRESH_BINARY)\n",
    "    return (binary // 255).astype(np.uint8)\n",
    "\n",
    "\n",
    "def show_image(img, title=\"Image\"):\n",
    "    plt.imshow(img, cmap='gray')\n",
    "    plt.title(title)\n",
    "    plt.axis('off')\n",
    "    plt.show()\n"
   ],
   "outputs": [],
   "execution_count": 60
  },
  {
   "cell_type": "markdown",
   "id": "04fb41cb",
   "metadata": {},
   "source": [
    "Implement erosion operation in this section\n"
   ]
  },
  {
   "cell_type": "code",
   "id": "0b7f2b0d",
   "metadata": {
    "ExecuteTime": {
     "end_time": "2025-05-19T21:21:15.558523Z",
     "start_time": "2025-05-19T21:21:15.555949Z"
    }
   },
   "source": [
    "def erosion(binary_image, struct_elem):\n",
    "    eroded = cv2.erode(binary_image, struct_elem)\n",
    "    return eroded\n",
    "\n",
    "##################################################"
   ],
   "outputs": [],
   "execution_count": 73
  },
  {
   "cell_type": "markdown",
   "id": "cdce193a",
   "metadata": {},
   "source": [
    "Implement dilation operation in this section\n"
   ]
  },
  {
   "cell_type": "code",
   "id": "22ff4f3a",
   "metadata": {
    "ExecuteTime": {
     "end_time": "2025-05-19T21:21:16.876809Z",
     "start_time": "2025-05-19T21:21:16.872237Z"
    }
   },
   "source": [
    "def dilation(binary_image, struct_elem):\n",
    "    dilated = cv2.dilate(binary_image, struct_elem)\n",
    "    return dilated\n",
    "\n",
    "##################################################"
   ],
   "outputs": [],
   "execution_count": 74
  },
  {
   "cell_type": "markdown",
   "id": "22ccfcad",
   "metadata": {},
   "source": [
    "Implement opening operation in this section\n"
   ]
  },
  {
   "cell_type": "code",
   "id": "7ec64c50",
   "metadata": {
    "ExecuteTime": {
     "end_time": "2025-05-19T21:21:18.318992Z",
     "start_time": "2025-05-19T21:21:18.314286Z"
    }
   },
   "source": [
    "def opening(binary_image, struct_elem):\n",
    "    eroded = erosion(binary_image, struct_elem)\n",
    "    opened = dilation(eroded, struct_elem)\n",
    "    return opened\n",
    "\n",
    "##################################################"
   ],
   "outputs": [],
   "execution_count": 75
  },
  {
   "cell_type": "markdown",
   "id": "0355ee24",
   "metadata": {},
   "source": [
    "<img src=\"./skeletion_relation.jpeg\" style=\"width:600px\"/>\n"
   ]
  },
  {
   "cell_type": "markdown",
   "id": "a0e7fea8",
   "metadata": {},
   "source": [
    "Based on the morphological operations illustrated in the image above, complete the function `morphological_skeleton` to compute the skeleton of a binary image using iterative morphological erosion and opening."
   ]
  },
  {
   "cell_type": "code",
   "id": "5cf25cd5",
   "metadata": {
    "ExecuteTime": {
     "end_time": "2025-05-19T22:27:26.617269Z",
     "start_time": "2025-05-19T22:27:26.612718Z"
    }
   },
   "source": [
    "def morphological_skeleton(binary_image, struct_elem=None):\n",
    "    if struct_elem is None:\n",
    "        struct_elem = np.array([[0, 1, 0], [1, 1, 1], [0, 1, 0]],dtype=np.uint8)\n",
    "    skeleton = np.zeros_like(binary_image)\n",
    "\n",
    "    while True:\n",
    "        eroded = erosion(binary_image, struct_elem)\n",
    "        opened = opening(binary_image, struct_elem)\n",
    "\n",
    "        temp = cv2.subtract(binary_image, opened)\n",
    "        skeleton = cv2.bitwise_or(skeleton, temp)\n",
    "\n",
    "        binary_image = eroded.copy()\n",
    "\n",
    "        if cv2.countNonZero(eroded) == 0:\n",
    "            break\n",
    "    return skeleton\n",
    "\n",
    "##################################################"
   ],
   "outputs": [],
   "execution_count": 99
  },
  {
   "cell_type": "code",
   "id": "34357c5c",
   "metadata": {
    "ExecuteTime": {
     "end_time": "2025-05-19T22:27:27.482793Z",
     "start_time": "2025-05-19T22:27:27.349055Z"
    }
   },
   "source": [
    "path = \"skeleton.jpeg\"\n",
    "binary = load_and_binarize_image(path)\n",
    "plt.imshow(binary, cmap='gray');\n",
    "plt.title(\"Binary\");\n",
    "plt.axis('off');\n",
    "plt.show()\n",
    "\n",
    "skel = morphological_skeleton(binary)\n",
    "plt.imshow(skel, cmap='gray');\n",
    "plt.title(\"Skeleton\");\n",
    "plt.axis('off');\n",
    "plt.show()"
   ],
   "outputs": [
    {
     "data": {
      "text/plain": [
       "<Figure size 640x480 with 1 Axes>"
      ],
      "image/png": "[encoded data removed]"
     },
     "metadata": {},
     "output_type": "display_data"
    },
    {
     "data": {
      "text/plain": [
       "<Figure size 640x480 with 1 Axes>"
      ],
      "image/png": "[encoded data removed]"
     },
     "metadata": {},
     "output_type": "display_data"
    }
   ],
   "execution_count": 100
  },
  {
   "metadata": {},
   "cell_type": "code",
   "outputs": [],
   "execution_count": null,
   "source": "",
   "id": "fee4626fd009e108"
  }
 ],
 "metadata": {
  "kernelspec": {
   "display_name": "Python 3",
   "language": "python",
   "name": "python3"
  },
  "language_info": {
   "codemirror_mode": {
    "name": "ipython",
    "version": 3
   },
   "file_extension": ".py",
   "mimetype": "text/x-python",
   "name": "python",
   "nbconvert_exporter": "python",
   "pygments_lexer": "ipython3",
   "version": "3.7.0"
  }
 },
 "nbformat": 4,
 "nbformat_minor": 5
}
